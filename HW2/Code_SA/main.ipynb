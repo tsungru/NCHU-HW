{
 "cells": [
  {
   "cell_type": "code",
   "execution_count": 1,
   "metadata": {},
   "outputs": [],
   "source": [
    "import numpy as np"
   ]
  },
  {
   "cell_type": "code",
   "execution_count": 2,
   "metadata": {},
   "outputs": [],
   "source": [
    "# Hyper parameter\n",
    "MAX_ITERATION = 500\n",
    "\n",
    "# Temperature\n",
    "T = 1\n",
    "\n",
    "# Annealing coefficient\n",
    "RT = 0.95"
   ]
  },
  {
   "cell_type": "code",
   "execution_count": 3,
   "metadata": {},
   "outputs": [
    {
     "name": "stdout",
     "output_type": "stream",
     "text": [
      "Capacity: 750\n",
      "    |Profit     |Weight     |Selection\n",
      "--------------------------------------\n",
      "0.  |135.0      |70.0       |1         \n",
      "1.  |139.0      |73.0       |0         \n",
      "2.  |149.0      |77.0       |0         \n",
      "3.  |150.0      |80.0       |0         \n",
      "4.  |156.0      |82.0       |0         \n",
      "5.  |163.0      |87.0       |1         \n",
      "6.  |173.0      |90.0       |0         \n",
      "7.  |184.0      |94.0       |0         \n",
      "8.  |192.0      |98.0       |0         \n",
      "9.  |201.0      |106.0      |1         \n",
      "10. |210.0      |110.0      |0         \n",
      "11. |214.0      |113.0      |0         \n",
      "12. |221.0      |115.0      |0         \n",
      "13. |229.0      |118.0      |0         \n",
      "14. |240.0      |120.0      |0         \n"
     ]
    }
   ],
   "source": [
    "# Load the data\n",
    "path = '../Data Set/'\n",
    "data_lst = ['p07_c.txt', 'p07_p.txt', 'p07_w.txt']\n",
    "\n",
    "with open(path + data_lst[0], 'r') as f:\n",
    "    CAPACITY = int(f.read())\n",
    "    print('Capacity:', CAPACITY)\n",
    "\n",
    "PROFIT_LST = np.array([])\n",
    "with open(path + data_lst[1], 'r') as f:\n",
    "    for line in f:\n",
    "        PROFIT_LST = np.append(PROFIT_LST, int(line))\n",
    "\n",
    "WEIGHT_LST = np.array([])\n",
    "with open(path + data_lst[2], 'r') as f:\n",
    "    for line in f:\n",
    "        WEIGHT_LST = np.append(WEIGHT_LST, int(line))\n",
    "\n",
    "# Initialize the selection\n",
    "selection_lst = np.array([1 ,0 ,0 ,0 ,0 ,1 ,0 ,0 ,0 ,1 ,0 ,0 ,0 ,0, 0])\n",
    "\n",
    "print('    |Profit    ', '|Weight    ', '|Selection')\n",
    "print('--------------------------------------')\n",
    "for i in range(len(selection_lst)):\n",
    "    print('{:<3} |{:<9}  |{:<9}  |{:<9} '.format(str(i) + '.', PROFIT_LST[i], WEIGHT_LST[i], selection_lst[i]))\n",
    "\n",
    "\n",
    "        "
   ]
  },
  {
   "cell_type": "code",
   "execution_count": 4,
   "metadata": {},
   "outputs": [],
   "source": [
    "# The function of calculating the profit by corresponding selection\n",
    "def count_profit(selection_lst):\n",
    "    total_profit = 0\n",
    "    for i in range(len(selection_lst)):\n",
    "        if selection_lst[i]:\n",
    "            total_profit = total_profit + PROFIT_LST[i]\n",
    "    \n",
    "    return total_profit"
   ]
  },
  {
   "cell_type": "code",
   "execution_count": 5,
   "metadata": {},
   "outputs": [],
   "source": [
    "# The function of calculating the weight by corresponding selection\n",
    "def count_weight(selection_lst):\n",
    "    total_weight = 0\n",
    "    for i in range(len(selection_lst)):\n",
    "        if selection_lst[i]:\n",
    "            total_weight = total_weight + WEIGHT_LST[i]\n",
    "    \n",
    "    return total_weight    "
   ]
  },
  {
   "cell_type": "code",
   "execution_count": 6,
   "metadata": {},
   "outputs": [],
   "source": [
    "# The function of changing the selection\n",
    "def change_selection(selection_lst, idx):\n",
    "    if selection_lst[idx] == 0:\n",
    "        selection_lst[idx] = 1\n",
    "    else:\n",
    "        selection_lst[idx] = 0"
   ]
  },
  {
   "cell_type": "code",
   "execution_count": 7,
   "metadata": {},
   "outputs": [],
   "source": [
    "# The function of deciding whether the selection should be changed\n",
    "def whether_to_change(delta_f):\n",
    "    r = np.random.rand()\n",
    "    if (r <= np.exp(delta_f / T)):\n",
    "        return True\n",
    "    else:\n",
    "        return False"
   ]
  },
  {
   "cell_type": "code",
   "execution_count": 8,
   "metadata": {},
   "outputs": [
    {
     "name": "stdout",
     "output_type": "stream",
     "text": [
      "Weight: 749.0\n",
      "Profit: 1450.0\n"
     ]
    }
   ],
   "source": [
    "# Find the optimal solution\n",
    "SIZE = len(selection_lst)\n",
    "\n",
    "# The weight and profit of initial selection\n",
    "total_weight = count_weight(selection_lst)\n",
    "total_profit = count_profit(selection_lst)\n",
    "\n",
    "# Used to record profits\n",
    "profit_record = np.array([total_profit])\n",
    "\n",
    "for i in range(MAX_ITERATION):\n",
    "    sel = np.random.randint(0, SIZE)\n",
    "    change_selection(selection_lst, sel)\n",
    "    temp_weight = count_weight(selection_lst)\n",
    "    temp_profit = count_profit(selection_lst)\n",
    "    \n",
    "    # If the new selection can satisfy the constraint of weighy\n",
    "    if (temp_weight <= CAPACITY):\n",
    "\n",
    "        # If the new selection can have a better profit\n",
    "        if (temp_profit >= total_profit):\n",
    "            total_weight = temp_weight\n",
    "            total_profit = temp_profit\n",
    "        else:\n",
    "            # If the selection can be change although it has a worse profit\n",
    "            if (whether_to_change(temp_profit - total_profit)):\n",
    "                total_weight = temp_weight\n",
    "                total_profit = temp_profit\n",
    "            else:\n",
    "                change_selection(selection_lst, sel)\n",
    "    \n",
    "    # Record the profit\n",
    "    profit_record = np.append(profit_record, total_profit)\n",
    "\n",
    "    # Update the temperature parameter\n",
    "    T = T * RT\n",
    "\n",
    "print(\"Weight:\", total_weight)\n",
    "print(\"Profit:\", profit_record[-1])"
   ]
  },
  {
   "cell_type": "code",
   "execution_count": 9,
   "metadata": {},
   "outputs": [
    {
     "data": {
      "image/png": "[encoded data removed]",
      "text/plain": [
       "<Figure size 432x288 with 1 Axes>"
      ]
     },
     "metadata": {
      "needs_background": "light"
     },
     "output_type": "display_data"
    }
   ],
   "source": [
    "# Output the profit growth rate\n",
    "import matplotlib.pyplot as plt\n",
    "\n",
    "plt.figure() \n",
    "plt.plot(profit_record, 'r') \n",
    "plt.title('Profit growth rate') \n",
    "plt.xlabel('Iteration number') \n",
    "plt.ylabel('Profit') \n",
    "plt.show()"
   ]
  }
 ],
 "metadata": {
  "kernelspec": {
   "display_name": "py38",
   "language": "python",
   "name": "python3"
  },
  "language_info": {
   "codemirror_mode": {
    "name": "ipython",
    "version": 3
   },
   "file_extension": ".py",
   "mimetype": "text/x-python",
   "name": "python",
   "nbconvert_exporter": "python",
   "pygments_lexer": "ipython3",
   "version": "3.8.13"
  },
  "orig_nbformat": 4,
  "vscode": {
   "interpreter": {
    "hash": "478f2a5c1fac31e58562d8b035bffe322f6b23f9401bd6615e22dc2b1ff88a0a"
   }
  }
 },
 "nbformat": 4,
 "nbformat_minor": 2
}
