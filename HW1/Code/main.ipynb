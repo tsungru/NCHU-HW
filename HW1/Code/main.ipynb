{
 "cells": [
  {
   "cell_type": "code",
   "execution_count": 1,
   "metadata": {},
   "outputs": [],
   "source": [
    "import tensorflow as tf\n",
    "from tensorflow.keras import layers, models\n",
    "import matplotlib.pyplot as plt\n",
    "import os\n",
    "import cv2\n",
    "import numpy as np"
   ]
  },
  {
   "cell_type": "code",
   "execution_count": 2,
   "metadata": {},
   "outputs": [],
   "source": [
    "base_dir = 'C:/Users/Owner/OneDrive//Desktop/homework/HW1/Data Set/flowers/'\n",
    "cat_lst = ['daisy', 'dandelion', 'rose', 'sunflower', 'tulip']\n",
    "X = []\n",
    "y = []\n",
    "\n",
    "# Hyper parameter\n",
    "imgsize = 150\n",
    "batch_size = 128\n",
    "epochs = 50"
   ]
  },
  {
   "cell_type": "code",
   "execution_count": 3,
   "metadata": {},
   "outputs": [],
   "source": [
    "# The function of loading data from the corresponding path\n",
    "def load_data(data_dir, cat):\n",
    "    data_dir = data_dir + cat + '/'\n",
    "    print (\"Loading：\", data_dir) \n",
    "    print()\n",
    "    for img in os.listdir(data_dir): \n",
    "        path = data_dir + img\n",
    "        img = cv2.imread(path) \n",
    "        if img is None:\n",
    "            print('Wrong path')\n",
    "            exit(0)\n",
    "\n",
    "        # Resize all data\n",
    "        img = cv2.resize(img, (imgsize, imgsize)) \n",
    "        X.append(np.array(img)) \n",
    "        y.append(cat) "
   ]
  },
  {
   "cell_type": "code",
   "execution_count": 4,
   "metadata": {},
   "outputs": [
    {
     "name": "stdout",
     "output_type": "stream",
     "text": [
      "Loading： C:/Users/Owner/OneDrive//Desktop/homework/HW1/Data Set/flowers/daisy/\n",
      "\n",
      "Loading： C:/Users/Owner/OneDrive//Desktop/homework/HW1/Data Set/flowers/dandelion/\n",
      "\n",
      "Loading： C:/Users/Owner/OneDrive//Desktop/homework/HW1/Data Set/flowers/rose/\n",
      "\n",
      "Loading： C:/Users/Owner/OneDrive//Desktop/homework/HW1/Data Set/flowers/sunflower/\n",
      "\n",
      "Loading： C:/Users/Owner/OneDrive//Desktop/homework/HW1/Data Set/flowers/tulip/\n",
      "\n"
     ]
    }
   ],
   "source": [
    "from sklearn.preprocessing import LabelEncoder\n",
    "from tensorflow.keras.utils import to_categorical\n",
    "\n",
    "# Load all data and the labels into the array X and y, respectively \n",
    "for i in range(len(cat_lst)):\n",
    "    load_data(base_dir, cat_lst[i])\n",
    "\n",
    "# Normalize the X \n",
    "X = np.array(X)\n",
    "X = X / 255\n",
    "\n",
    "# Transform the y from the format of string to the format of array with binary elements \n",
    "label_encoder = LabelEncoder()\n",
    "y = label_encoder.fit_transform(y) \n",
    "y = to_categorical(y, 5)"
   ]
  },
  {
   "cell_type": "code",
   "execution_count": 5,
   "metadata": {},
   "outputs": [],
   "source": [
    "from sklearn.model_selection import train_test_split\n",
    "\n",
    "# Divide the data into 'training set' and 'testing set'\n",
    "X_train, X_test, y_train, y_test = train_test_split(X, y, test_size = 0.2, random_state = 42)"
   ]
  },
  {
   "cell_type": "code",
   "execution_count": 6,
   "metadata": {},
   "outputs": [],
   "source": [
    "# Build the model by CNN\n",
    "cnn_model = models.Sequential()\n",
    "cnn_model.add(layers.Conv2D(filters = 32, kernel_size = (3, 3), padding = 'Same', activation = 'relu', input_shape = (imgsize, imgsize, 3)))                    \n",
    "cnn_model.add(layers.MaxPooling2D(pool_size = (2, 2), strides = (2, 2)))\n",
    "\n",
    "cnn_model.add(layers.Conv2D(filters = 64, kernel_size = (3, 3), padding = 'Same', activation = 'relu')) \n",
    "cnn_model.add(layers.MaxPooling2D(pool_size = (2, 2), strides = (2, 2))) \n",
    "\n",
    "cnn_model.add(layers.Conv2D(filters = 96, kernel_size = (3, 3), padding = 'Same', activation = 'relu'))\n",
    "cnn_model.add(layers.MaxPooling2D(pool_size = (2, 2), strides = (2, 2))) \n",
    "\n",
    "cnn_model.add(layers.Conv2D(filters = 96, kernel_size = (3, 3), padding = 'Same', activation = 'relu'))\n",
    "cnn_model.add(layers.MaxPooling2D(pool_size = (2, 2), strides = (2, 2))) \n",
    "\n",
    "cnn_model.add(layers.Flatten()) \n",
    "cnn_model.add(layers.Dense(512, activation = 'relu')) \n",
    "cnn_model.add(layers.Dropout(0.5)) \n",
    "cnn_model.add(layers.Dense(5, activation='softmax')) \n",
    "cnn_model.compile(loss = 'categorical_crossentropy', optimizer = 'Adam', metrics = ['acc']) "
   ]
  },
  {
   "cell_type": "code",
   "execution_count": 7,
   "metadata": {},
   "outputs": [
    {
     "name": "stdout",
     "output_type": "stream",
     "text": [
      "Epoch 1/50\n",
      "22/22 [==============================] - 68s 3s/step - loss: 1.5068 - acc: 0.3042 - val_loss: 1.2373 - val_acc: 0.5036\n",
      "Epoch 2/50\n",
      "22/22 [==============================] - 55s 3s/step - loss: 1.1798 - acc: 0.5114 - val_loss: 1.0612 - val_acc: 0.5586\n",
      "Epoch 3/50\n",
      "22/22 [==============================] - 55s 2s/step - loss: 1.0453 - acc: 0.5893 - val_loss: 0.9981 - val_acc: 0.5919\n",
      "Epoch 4/50\n",
      "22/22 [==============================] - 55s 3s/step - loss: 0.9643 - acc: 0.6016 - val_loss: 0.9756 - val_acc: 0.6136\n",
      "Epoch 5/50\n",
      "22/22 [==============================] - 53s 2s/step - loss: 0.8978 - acc: 0.6498 - val_loss: 0.8304 - val_acc: 0.6686\n",
      "Epoch 6/50\n",
      "22/22 [==============================] - 56s 3s/step - loss: 0.8144 - acc: 0.6784 - val_loss: 0.8727 - val_acc: 0.6454\n",
      "Epoch 7/50\n",
      "22/22 [==============================] - 59s 3s/step - loss: 0.7564 - acc: 0.7110 - val_loss: 0.8035 - val_acc: 0.6903\n",
      "Epoch 8/50\n",
      "22/22 [==============================] - 69s 3s/step - loss: 0.7347 - acc: 0.7139 - val_loss: 0.7938 - val_acc: 0.6918\n",
      "Epoch 9/50\n",
      "22/22 [==============================] - 66s 3s/step - loss: 0.6516 - acc: 0.7476 - val_loss: 0.7891 - val_acc: 0.6903\n",
      "Epoch 10/50\n",
      "22/22 [==============================] - 56s 3s/step - loss: 0.5794 - acc: 0.7744 - val_loss: 0.7798 - val_acc: 0.7207\n",
      "Epoch 11/50\n",
      "22/22 [==============================] - 55s 2s/step - loss: 0.5143 - acc: 0.8015 - val_loss: 0.8070 - val_acc: 0.7004\n",
      "Epoch 12/50\n",
      "22/22 [==============================] - 55s 3s/step - loss: 0.4519 - acc: 0.8207 - val_loss: 0.8204 - val_acc: 0.7149\n",
      "Epoch 13/50\n",
      "22/22 [==============================] - 53s 2s/step - loss: 0.3806 - acc: 0.8562 - val_loss: 0.8274 - val_acc: 0.7250\n",
      "Epoch 14/50\n",
      "22/22 [==============================] - 49s 2s/step - loss: 0.3163 - acc: 0.8881 - val_loss: 0.9168 - val_acc: 0.7149\n",
      "Epoch 15/50\n",
      "22/22 [==============================] - 67s 3s/step - loss: 0.2741 - acc: 0.9047 - val_loss: 0.9734 - val_acc: 0.7164\n",
      "Epoch 16/50\n",
      "22/22 [==============================] - 66s 3s/step - loss: 0.1951 - acc: 0.9355 - val_loss: 0.9564 - val_acc: 0.7366\n",
      "Epoch 17/50\n",
      "22/22 [==============================] - 51s 2s/step - loss: 0.1754 - acc: 0.9381 - val_loss: 1.0689 - val_acc: 0.7178\n",
      "Epoch 18/50\n",
      "22/22 [==============================] - 48s 2s/step - loss: 0.1401 - acc: 0.9526 - val_loss: 1.1220 - val_acc: 0.7091\n",
      "Epoch 19/50\n",
      "22/22 [==============================] - 50s 2s/step - loss: 0.1789 - acc: 0.9395 - val_loss: 1.1666 - val_acc: 0.6860\n",
      "Epoch 20/50\n",
      "22/22 [==============================] - 59s 3s/step - loss: 0.1437 - acc: 0.9540 - val_loss: 1.3039 - val_acc: 0.7004\n",
      "Epoch 21/50\n",
      "22/22 [==============================] - 45s 2s/step - loss: 0.0974 - acc: 0.9717 - val_loss: 1.2575 - val_acc: 0.7308\n",
      "Epoch 22/50\n",
      "22/22 [==============================] - 59s 3s/step - loss: 0.0794 - acc: 0.9757 - val_loss: 1.3417 - val_acc: 0.7091\n",
      "Epoch 23/50\n",
      "22/22 [==============================] - 56s 3s/step - loss: 0.0734 - acc: 0.9797 - val_loss: 1.2469 - val_acc: 0.7294\n",
      "Epoch 24/50\n",
      "22/22 [==============================] - 50s 2s/step - loss: 0.0453 - acc: 0.9888 - val_loss: 1.3354 - val_acc: 0.7395\n",
      "Epoch 25/50\n",
      "22/22 [==============================] - 46s 2s/step - loss: 0.0450 - acc: 0.9848 - val_loss: 1.5591 - val_acc: 0.7106\n",
      "Epoch 26/50\n",
      "22/22 [==============================] - 45s 2s/step - loss: 0.0294 - acc: 0.9899 - val_loss: 1.7433 - val_acc: 0.7106\n",
      "Epoch 27/50\n",
      "22/22 [==============================] - 45s 2s/step - loss: 0.0335 - acc: 0.9920 - val_loss: 1.5734 - val_acc: 0.7250\n",
      "Epoch 28/50\n",
      "22/22 [==============================] - 47s 2s/step - loss: 0.0333 - acc: 0.9917 - val_loss: 1.7035 - val_acc: 0.7004\n",
      "Epoch 29/50\n",
      "22/22 [==============================] - 45s 2s/step - loss: 0.0444 - acc: 0.9866 - val_loss: 1.6864 - val_acc: 0.7048\n",
      "Epoch 30/50\n",
      "22/22 [==============================] - 65s 3s/step - loss: 0.0578 - acc: 0.9833 - val_loss: 1.6315 - val_acc: 0.7004\n",
      "Epoch 31/50\n",
      "22/22 [==============================] - 92s 4s/step - loss: 0.0512 - acc: 0.9852 - val_loss: 1.5546 - val_acc: 0.6990\n",
      "Epoch 32/50\n",
      "22/22 [==============================] - 71s 3s/step - loss: 0.0460 - acc: 0.9852 - val_loss: 1.5559 - val_acc: 0.7019\n",
      "Epoch 33/50\n",
      "22/22 [==============================] - 55s 3s/step - loss: 0.0243 - acc: 0.9938 - val_loss: 1.6446 - val_acc: 0.7221\n",
      "Epoch 34/50\n",
      "22/22 [==============================] - 65s 3s/step - loss: 0.0159 - acc: 0.9967 - val_loss: 1.8814 - val_acc: 0.6975\n",
      "Epoch 35/50\n",
      "22/22 [==============================] - 61s 3s/step - loss: 0.0224 - acc: 0.9938 - val_loss: 1.7361 - val_acc: 0.7265\n",
      "Epoch 36/50\n",
      "22/22 [==============================] - 88s 4s/step - loss: 0.0295 - acc: 0.9899 - val_loss: 1.7514 - val_acc: 0.7192\n",
      "Epoch 37/50\n",
      "22/22 [==============================] - 65s 3s/step - loss: 0.0221 - acc: 0.9946 - val_loss: 1.7600 - val_acc: 0.7294\n",
      "Epoch 38/50\n",
      "22/22 [==============================] - 58s 3s/step - loss: 0.0103 - acc: 0.9986 - val_loss: 1.9048 - val_acc: 0.7178\n",
      "Epoch 39/50\n",
      "22/22 [==============================] - 55s 3s/step - loss: 0.0134 - acc: 0.9946 - val_loss: 1.8455 - val_acc: 0.7164\n",
      "Epoch 40/50\n",
      "22/22 [==============================] - 53s 2s/step - loss: 0.0178 - acc: 0.9938 - val_loss: 1.8926 - val_acc: 0.7164\n",
      "Epoch 41/50\n",
      "22/22 [==============================] - 51s 2s/step - loss: 0.0190 - acc: 0.9931 - val_loss: 1.9524 - val_acc: 0.6990\n",
      "Epoch 42/50\n",
      "22/22 [==============================] - 51s 2s/step - loss: 0.0197 - acc: 0.9949 - val_loss: 1.9274 - val_acc: 0.7250\n",
      "Epoch 43/50\n",
      "22/22 [==============================] - 71s 3s/step - loss: 0.0350 - acc: 0.9895 - val_loss: 1.7856 - val_acc: 0.7120\n",
      "Epoch 44/50\n",
      "22/22 [==============================] - 62s 3s/step - loss: 0.0328 - acc: 0.9877 - val_loss: 1.8406 - val_acc: 0.7106\n",
      "Epoch 45/50\n",
      "22/22 [==============================] - 59s 3s/step - loss: 0.0267 - acc: 0.9920 - val_loss: 1.7790 - val_acc: 0.7048\n",
      "Epoch 46/50\n",
      "22/22 [==============================] - 56s 3s/step - loss: 0.0198 - acc: 0.9949 - val_loss: 1.9981 - val_acc: 0.7033\n",
      "Epoch 47/50\n",
      "22/22 [==============================] - 57s 3s/step - loss: 0.0350 - acc: 0.9859 - val_loss: 1.7641 - val_acc: 0.7207\n",
      "Epoch 48/50\n",
      "22/22 [==============================] - 58s 3s/step - loss: 0.0303 - acc: 0.9909 - val_loss: 2.0477 - val_acc: 0.7004\n",
      "Epoch 49/50\n",
      "22/22 [==============================] - 57s 3s/step - loss: 0.0227 - acc: 0.9931 - val_loss: 1.9938 - val_acc: 0.7120\n",
      "Epoch 50/50\n",
      "22/22 [==============================] - 62s 3s/step - loss: 0.0188 - acc: 0.9928 - val_loss: 1.8910 - val_acc: 0.7062\n"
     ]
    }
   ],
   "source": [
    "# Train the model by the training set\n",
    "history = cnn_model.fit(X_train, y_train, batch_size = batch_size, epochs = epochs, validation_split = 0.2)"
   ]
  },
  {
   "cell_type": "code",
   "execution_count": 8,
   "metadata": {},
   "outputs": [],
   "source": [
    "# The function of showing the training history of 'loss' and 'accruacy'\n",
    "def show_history(history): \n",
    "\n",
    "    # The image of training and validation loss\n",
    "    loss = history.history['loss'] \n",
    "    val_loss = history.history['val_loss'] \n",
    "    epochs = range(1, len(loss) + 1) \n",
    "    plt.figure(figsize=(12,4)) \n",
    "    plt.subplot(1, 2, 1) \n",
    "    plt.plot(epochs, loss, 'r', label='Training loss') \n",
    "    plt.plot(epochs, val_loss, 'b', label='Validation loss') \n",
    "    plt.title('Training and validation loss') \n",
    "    plt.xlabel('Epochs') \n",
    "    plt.ylabel('Loss') \n",
    "    plt.legend() \n",
    "\n",
    "    # The image of training and validation accruacy\n",
    "    acc = history.history['acc'] \n",
    "    val_acc = history.history['val_acc'] \n",
    "    plt.subplot(1, 2, 2) \n",
    "    plt.plot(epochs, acc, 'r', label='Training acc') \n",
    "    plt.plot(epochs, val_acc, 'b', label='Validation acc') \n",
    "    plt.title('Training and validation accuracy') \n",
    "    plt.xlabel('Epochs') \n",
    "    plt.ylabel('Accuracy') \n",
    "    plt.legend() \n",
    "    plt.show() "
   ]
  },
  {
   "cell_type": "code",
   "execution_count": 9,
   "metadata": {},
   "outputs": [
    {
     "data": {
      "image/png": "[encoded data removed]",
      "text/plain": [
       "<Figure size 864x288 with 2 Axes>"
      ]
     },
     "metadata": {
      "needs_background": "light"
     },
     "output_type": "display_data"
    }
   ],
   "source": [
    "# Show the image of training history \n",
    "show_history(history) "
   ]
  },
  {
   "cell_type": "code",
   "execution_count": 10,
   "metadata": {},
   "outputs": [
    {
     "name": "stdout",
     "output_type": "stream",
     "text": [
      "27/27 [==============================] - 6s 217ms/step\n",
      "The \"Accruacy\" of CNN model is 0.67245\n",
      "The \"Precision\" of CNN model is 0.67381\n",
      "The \"Recall\" of CNN model is 0.66966\n",
      "The \"F1\" of CNN model is 0.66886\n"
     ]
    }
   ],
   "source": [
    "# Evulate the CNN model by four different metrics\n",
    "from sklearn.metrics import accuracy_score\n",
    "from sklearn.metrics import precision_score\n",
    "from sklearn.metrics import recall_score\n",
    "from sklearn.metrics import f1_score\n",
    "\n",
    "y_true = []\n",
    "y_pred = []\n",
    "y_test_pred = cnn_model.predict(X_test)\n",
    "\n",
    "# Transform the real label and predicted label from the format of array to the format of index\n",
    "for i in range(len(y_test)):\n",
    "    y_true.append(y_test[i].tolist().index(1.0))\n",
    "    y_pred.append(y_test_pred[i].tolist().index(max(y_test_pred[i])))\n",
    "\n",
    "# The metric of accuracy\n",
    "accuracy = accuracy_score(y_true, y_pred)\n",
    "\n",
    "# The metric of precision\n",
    "precision = precision_score(y_true, y_pred, average = 'macro')\n",
    "\n",
    "# The metric of recall\n",
    "recall = recall_score(y_true, y_pred, average = 'macro')\n",
    "\n",
    "# The metric of F1\n",
    "f1 = f1_score(y_true, y_pred, average = 'macro')\n",
    "\n",
    "print('The \\\"Accruacy\\\" of CNN model is {0:.5f}'.format(accuracy))    \n",
    "print('The \\\"Precision\\\" of CNN model is {0:.5f}'.format(precision))  \n",
    "print('The \\\"Recall\\\" of CNN model is {0:.5f}'.format(recall)) \n",
    "print('The \\\"F1\\\" of CNN model is {0:.5f}'.format(f1)) \n",
    "\n"
   ]
  },
  {
   "cell_type": "code",
   "execution_count": 11,
   "metadata": {},
   "outputs": [
    {
     "name": "stdout",
     "output_type": "stream",
     "text": [
      "---------------------------------------------------------------\n",
      "| Real Answer         | Predicted Answer    | Predicted Success   \n",
      "---------------------------------------------------------------\n",
      "| tulip               | tulip               | true                \n",
      "| rose                | rose                | true                \n",
      "| rose                | rose                | true                \n",
      "| tulip               | rose                | false               \n",
      "| rose                | daisy               | false               \n",
      "| rose                | tulip               | false               \n",
      "| tulip               | tulip               | true                \n",
      "| daisy               | daisy               | true                \n",
      "| dandelion           | tulip               | false               \n",
      "| dandelion           | dandelion           | true                \n"
     ]
    }
   ],
   "source": [
    "# Randomly select ten different indexes\n",
    "idxs = np.random.randint(0, len(y_test), size = 10)\n",
    "real = []\n",
    "predict = []\n",
    "\n",
    "for i in range(10): \n",
    "    real.append(y_test[idxs[i]].tolist()) \n",
    "    predict.append(y_test_pred[idxs[i]].tolist())\n",
    "\n",
    "# Output real answers and predicted answers of ten different testing data\n",
    "for i in range(10):\n",
    "    if i == 0:\n",
    "        print(\"-\" * 63)               \n",
    "        print(\"| {:<20}| {:<20}| {:<20}\".format(\"Real Answer\", \"Predicted Answer\", \"Predicted Success\"))\n",
    "        print(\"-\" * 63)\n",
    "    r_ans = cat_lst[real[i].index(max(real[i]))]\n",
    "    p_ans = cat_lst[predict[i].index(max(predict[i]))]\n",
    "    if r_ans == p_ans: \n",
    "        ans = \"true\"\n",
    "    else:\n",
    "        ans = \"false\"\n",
    "    print(\"| {:<20}| {:<20}| {:<20}\".format(r_ans, p_ans, ans))"
   ]
  }
 ],
 "metadata": {
  "kernelspec": {
   "display_name": "py38",
   "language": "python",
   "name": "python3"
  },
  "language_info": {
   "codemirror_mode": {
    "name": "ipython",
    "version": 3
   },
   "file_extension": ".py",
   "mimetype": "text/x-python",
   "name": "python",
   "nbconvert_exporter": "python",
   "pygments_lexer": "ipython3",
   "version": "3.8.13"
  },
  "orig_nbformat": 4,
  "vscode": {
   "interpreter": {
    "hash": "478f2a5c1fac31e58562d8b035bffe322f6b23f9401bd6615e22dc2b1ff88a0a"
   }
  }
 },
 "nbformat": 4,
 "nbformat_minor": 2
}
